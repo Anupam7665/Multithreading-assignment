{
 "cells": [
  {
   "cell_type": "markdown",
   "id": "319dc7fc-6c1f-4274-a0f9-5f0b07501673",
   "metadata": {},
   "source": [
    "### Q1  What is multithreading in python? why is it used? Name the module used to handle threads in python"
   ]
  },
  {
   "cell_type": "markdown",
   "id": "6653e4b4-d187-42d1-acb4-6d1796e177e7",
   "metadata": {},
   "source": [
    "It means multiple thread can run in a single process simultaneously .Each thread has a separate flow of execution\n",
    " \n",
    "Multithreading is used to improve the overall perfomance and resposiveness of  program \n",
    "\n",
    "In python the module used to handle threads is called 'threading'. It provide simple and easy to use interface to create and manages threads in python"
   ]
  },
  {
   "cell_type": "markdown",
   "id": "adde5d5a-62d7-46b5-86a7-4e3a379bc64e",
   "metadata": {},
   "source": [
    "### Why threading module used? Write the use of the following functions:\n",
    "### 1. activeCount\n",
    "### 2. currentThread\n",
    "### 3. enumerate"
   ]
  },
  {
   "cell_type": "markdown",
   "id": "6b379c43-3c56-499b-8967-0dd28be3564f",
   "metadata": {},
   "source": [
    "activeCount: This function return the number of thread currently active in the program\n",
    "\n",
    "currentThread: This function tells you which specific thread is currently executing a piece code\n",
    "\n",
    "enumerate: This function give a list of all thread that are currently running in your program "
   ]
  },
  {
   "cell_type": "markdown",
   "id": "0989c06c-c844-4a18-a9bc-9a870ddceb6e",
   "metadata": {},
   "source": [
    "### 3. Explain the following functions\n",
    "### 1. run\n",
    "### 2. start\n",
    "### 3. join\n",
    "### 4. isAlive"
   ]
  },
  {
   "cell_type": "markdown",
   "id": "d9a294a6-9a86-4f6d-b440-ea85c7204bcf",
   "metadata": {},
   "source": [
    "run: This function defines the behaviour of the thread when it is executed.When you create a new thread ,you can override this function and provide your own implementation for the thread behaviour.\n",
    "\n",
    "start: This function is used to start the execution of the thread. When we called the start()method;  run() method  is executed concurrently with the other thread\n",
    "\n",
    "join: This function is used to wait for the thread to complete its execution\n",
    "It waits for the task to finish before continuing the program\n",
    "\n",
    "\n",
    "isAlive: This function is used to check whether the task is compeleted  or still it is running"
   ]
  },
  {
   "cell_type": "markdown",
   "id": "1f90ff3c-1e1a-4aa7-940e-ea8e840c11d9",
   "metadata": {},
   "source": [
    "### Q4.Write a python program to create two threads. Thread one must print the list of squares and thread two must print the list of cubes"
   ]
  },
  {
   "cell_type": "code",
   "execution_count": 6,
   "id": "9fdd0f32-261f-4a96-a696-fc0fcd2ec077",
   "metadata": {},
   "outputs": [],
   "source": [
    "import threading"
   ]
  },
  {
   "cell_type": "code",
   "execution_count": 7,
   "id": "fdda7b1a-06cd-4bca-af75-f8194bb87acb",
   "metadata": {},
   "outputs": [],
   "source": [
    "def print_square():\n",
    "    for i in range(1,11):\n",
    "        print(i**2)\n",
    "        \n",
    "def print_cubes():\n",
    "    for i in range(1,11):\n",
    "        print(i**3)\n",
    "        \n",
    "t1=threading.Thread(target=print_square)\n",
    "t2=threading.Thread(target=print_cubes)        "
   ]
  },
  {
   "cell_type": "code",
   "execution_count": 8,
   "id": "1f98b315-7bc4-498b-b2c4-8665c8a9adec",
   "metadata": {},
   "outputs": [
    {
     "name": "stdout",
     "output_type": "stream",
     "text": [
      "1\n",
      "4\n",
      "9\n",
      "16\n",
      "25\n",
      "36\n",
      "49\n",
      "64\n",
      "81\n",
      "100\n",
      "1\n",
      "8\n",
      "27\n",
      "64\n",
      "125\n",
      "216\n",
      "343\n",
      "512\n",
      "729\n",
      "1000\n"
     ]
    }
   ],
   "source": [
    "t1.start()\n",
    "t2.start()\n",
    "\n",
    "t1.join()\n",
    "t2.join()"
   ]
  },
  {
   "cell_type": "markdown",
   "id": "bd9b3c0c-71c8-4e4c-88ed-f2f3da28a504",
   "metadata": {},
   "source": [
    "### Q5. State advantages and disadvantages of multithreading"
   ]
  },
  {
   "cell_type": "markdown",
   "id": "328124f4-a4ee-4e43-8276-c4efa5becdb1",
   "metadata": {
    "jp-MarkdownHeadingCollapsed": true,
    "tags": []
   },
   "source": [
    "#### Advantages of multithreading\n",
    "\n",
    "Improved perfomance: Multithreading allows you to perform multiple task \n",
    "simultaneously which can improve the overall perfomance of the application\n",
    "\n",
    "Respnsiveness :Multithreading can make your application more responsive to user interaction . we can acess a application while another task is performing in the background\n"
   ]
  },
  {
   "cell_type": "markdown",
   "id": "7834bed5-f21b-494f-bd4b-2f001038c7c1",
   "metadata": {},
   "source": [
    "### Disadvantages of multithreding\n",
    "\n",
    "Complexity: To manages multiple threaded program can be more complicated compare to single threaded program\n",
    "\n",
    "Synchronization: When mutiple thread access shared resource concurrently ,it can lead synchronization issues ,such as race condition and deadlock ,which can be difficult to debug and resolve "
   ]
  },
  {
   "cell_type": "markdown",
   "id": "98e3474b-3564-48cb-886c-ef7839a6a460",
   "metadata": {},
   "source": [
    "### 6. Explain deadlocks and race conditions."
   ]
  },
  {
   "cell_type": "markdown",
   "id": "4c41fc95-c5d0-49c0-97e3-24953951e88f",
   "metadata": {},
   "source": [
    "Deadlock: A deadlock is a situation where two or more thread are waiting for each other to release a resouce ,causing a deadlock situation occured \n",
    "\n",
    "\n",
    "race condition:  A situation where two or more thread acess a shared resources concurrently,creating unpredictable result in the program "
   ]
  },
  {
   "cell_type": "code",
   "execution_count": null,
   "id": "bb7b6569-dfcf-4c79-9964-6020dc5035b7",
   "metadata": {},
   "outputs": [],
   "source": []
  }
 ],
 "metadata": {
  "kernelspec": {
   "display_name": "Python 3 (ipykernel)",
   "language": "python",
   "name": "python3"
  },
  "language_info": {
   "codemirror_mode": {
    "name": "ipython",
    "version": 3
   },
   "file_extension": ".py",
   "mimetype": "text/x-python",
   "name": "python",
   "nbconvert_exporter": "python",
   "pygments_lexer": "ipython3",
   "version": "3.10.8"
  }
 },
 "nbformat": 4,
 "nbformat_minor": 5
}
